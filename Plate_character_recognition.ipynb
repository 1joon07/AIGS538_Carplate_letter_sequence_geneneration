{
 "cells": [
  {
   "cell_type": "code",
   "execution_count": 1,
   "metadata": {
    "collapsed": true
   },
   "outputs": [
    {
     "name": "stdout",
     "output_type": "stream",
     "text": [
      "Using cpu device\n"
     ]
    }
   ],
   "source": [
    "import torch\n",
    "from torch import nn\n",
    "from torchvision import datasets\n",
    "from torch.utils.data import DataLoader\n",
    "from torchvision.transforms import Compose, Resize, ToTensor, Normalize, CenterCrop, Grayscale\n",
    "import matplotlib.pyplot as plt\n",
    "import time\n",
    "import dataset as data\n",
    "import model as md\n",
    "import numpy as np\n",
    "\n",
    "DEVICE = torch.device(\"cuda\" if torch.cuda.is_available() else \"cpu\")\n",
    "print(\"Using {} device\".format(DEVICE))"
   ]
  },
  {
   "cell_type": "code",
   "execution_count": 2,
   "metadata": {
    "collapsed": false
   },
   "outputs": [],
   "source": [
    "## Hyperparameters\n",
    "Batch_size = 64\n",
    "Optimizer_type = 'ADAM'\n",
    "Learning_rate = 1e-5\n",
    "Weight_decay = 0\n",
    "epochs = 100"
   ]
  },
  {
   "cell_type": "code",
   "execution_count": 3,
   "metadata": {
    "collapsed": false
   },
   "outputs": [],
   "source": [
    "def Sample_visualize(dataloader) :\n",
    "  ## Visualize some preprocess images\n",
    "  ##\n",
    "  ## Input : dataloader of image dataset\n",
    "  ## Output : image plots\n",
    "\n",
    " dataiter = iter(dataloader)\n",
    " images, labels = next(dataiter)\n",
    " # images = images.numpy()\n",
    " for i in range (2) :\n",
    "   plt.subplot(1,4,i+1)\n",
    "   plt.imshow(images[i].reshape((128, 128)), cmap='gray')\n",
    "   plt.xticks([])\n",
    "   plt.yticks([])\n",
    "   print(labels[i])\n",
    "\n",
    "# def visualize_dataset(dataset):\n",
    "#   ## Visualize some preprocess images\n",
    "#   ##\n",
    "#   ## Input : DATASET of image dataset\n",
    "#   ## Output : image plots\n",
    "#   images, labels = dataset[0]\n",
    "#   print(images.size())\n",
    "#   images = images.numpy()\n",
    "#   plt.imshow(images.reshape((64, 192)), cmap='gray')\n",
    "#   plt.xticks([])\n",
    "#   plt.yticks([])\n",
    "#   print(labels)"
   ]
  },
  {
   "cell_type": "code",
   "execution_count": 4,
   "metadata": {
    "collapsed": false
   },
   "outputs": [],
   "source": [
    "transform_set = Compose([Resize((128,128)),\n",
    "                Grayscale(),\n",
    "                ToTensor(),\n",
    "                Normalize((0.5), (0.5))])\n",
    "train_data = datasets.ImageFolder(root = \"./CNN_letter_dataset\", transform=transform_set)\n",
    "val_data = datasets.ImageFolder(root = \"./CNN_letter_dataset_val\", transform=transform_set)\n",
    "test_data = datasets.ImageFolder(root = \"./CNN_letter_dataset_test\", transform=transform_set)"
   ]
  },
  {
   "cell_type": "code",
   "execution_count": 5,
   "outputs": [],
   "source": [
    "train_dataloader = DataLoader(train_data, batch_size=Batch_size, shuffle=True)\n",
    "val_dataloader = DataLoader(val_data, batch_size=Batch_size, shuffle=True)\n",
    "test_dataloader = DataLoader(test_data, batch_size=Batch_size, shuffle=True)"
   ],
   "metadata": {
    "collapsed": false
   }
  },
  {
   "cell_type": "code",
   "execution_count": 6,
   "metadata": {
    "collapsed": false
   },
   "outputs": [
    {
     "name": "stdout",
     "output_type": "stream",
     "text": [
      "tensor(18)\n",
      "tensor(8)\n"
     ]
    },
    {
     "data": {
      "text/plain": "<Figure size 640x480 with 2 Axes>",
      "image/png": "[encoded data removed]"
     },
     "metadata": {},
     "output_type": "display_data"
    }
   ],
   "source": [
    "# visualize_dataset(full_dataset)\n",
    "Sample_visualize(train_dataloader)"
   ]
  },
  {
   "cell_type": "code",
   "execution_count": 7,
   "metadata": {
    "collapsed": false
   },
   "outputs": [
    {
     "name": "stdout",
     "output_type": "stream",
     "text": [
      "CNN(\n",
      "  (localization): Sequential(\n",
      "    (0): Conv2d(1, 48, kernel_size=(5, 5), stride=(1, 1))\n",
      "    (1): BatchNorm2d(48, eps=1e-05, momentum=0.1, affine=True, track_running_stats=True)\n",
      "    (2): ReLU()\n",
      "    (3): MaxPool2d(kernel_size=(2, 2), stride=2, padding=0, dilation=1, ceil_mode=False)\n",
      "    (4): Conv2d(48, 32, kernel_size=(5, 5), stride=(1, 1))\n",
      "    (5): BatchNorm2d(32, eps=1e-05, momentum=0.1, affine=True, track_running_stats=True)\n",
      "    (6): ReLU()\n",
      "    (7): MaxPool2d(kernel_size=(2, 2), stride=2, padding=0, dilation=1, ceil_mode=False)\n",
      "    (8): Conv2d(32, 64, kernel_size=(5, 5), stride=(1, 1))\n",
      "    (9): BatchNorm2d(64, eps=1e-05, momentum=0.1, affine=True, track_running_stats=True)\n",
      "    (10): ReLU()\n",
      "    (11): MaxPool2d(kernel_size=(2, 2), stride=2, padding=0, dilation=1, ceil_mode=False)\n",
      "    (12): Flatten(start_dim=1, end_dim=-1)\n",
      "    (13): Linear(in_features=9216, out_features=100, bias=True)\n",
      "    (14): ReLU()\n",
      "    (15): Linear(in_features=100, out_features=6, bias=True)\n",
      "    (16): ReLU()\n",
      "  )\n",
      "  (conv1): Sequential(\n",
      "    (0): Conv2d(1, 64, kernel_size=(5, 5), stride=(1, 1))\n",
      "    (1): BatchNorm2d(64, eps=1e-05, momentum=0.1, affine=True, track_running_stats=True)\n",
      "    (2): ReLU()\n",
      "  )\n",
      "  (pool1): MaxPool2d(kernel_size=2, stride=2, padding=0, dilation=1, ceil_mode=False)\n",
      "  (dropout1): Dropout(p=0.25, inplace=False)\n",
      "  (conv2): Sequential(\n",
      "    (0): Conv2d(64, 128, kernel_size=(3, 3), stride=(1, 1))\n",
      "    (1): BatchNorm2d(128, eps=1e-05, momentum=0.1, affine=True, track_running_stats=True)\n",
      "    (2): ReLU()\n",
      "  )\n",
      "  (pool2): MaxPool2d(kernel_size=2, stride=2, padding=0, dilation=1, ceil_mode=False)\n",
      "  (dropout2): Dropout(p=0.25, inplace=False)\n",
      "  (conv3): Sequential(\n",
      "    (0): Conv2d(128, 256, kernel_size=(3, 3), stride=(1, 1))\n",
      "    (1): BatchNorm2d(256, eps=1e-05, momentum=0.1, affine=True, track_running_stats=True)\n",
      "    (2): ReLU()\n",
      "  )\n",
      "  (pool3): MaxPool2d(kernel_size=2, stride=2, padding=0, dilation=1, ceil_mode=False)\n",
      "  (dropout3): Dropout(p=0.25, inplace=False)\n",
      "  (conv4): Sequential(\n",
      "    (0): Conv2d(256, 512, kernel_size=(3, 3), stride=(1, 1), padding=(1, 1))\n",
      "    (1): BatchNorm2d(512, eps=1e-05, momentum=0.1, affine=True, track_running_stats=True)\n",
      "    (2): ReLU()\n",
      "  )\n",
      "  (pool4): MaxPool2d(kernel_size=2, stride=2, padding=0, dilation=1, ceil_mode=False)\n",
      "  (dropout4): Dropout(p=0.25, inplace=False)\n",
      "  (conv5): Sequential(\n",
      "    (0): Conv2d(512, 256, kernel_size=(3, 3), stride=(1, 1), padding=(1, 1))\n",
      "    (1): BatchNorm2d(256, eps=1e-05, momentum=0.1, affine=True, track_running_stats=True)\n",
      "    (2): ReLU()\n",
      "  )\n",
      "  (pool5): MaxPool2d(kernel_size=2, stride=2, padding=0, dilation=1, ceil_mode=False)\n",
      "  (dropout5): Dropout(p=0.25, inplace=False)\n",
      "  (fc1): Sequential(\n",
      "    (0): Flatten(start_dim=1, end_dim=-1)\n",
      "  )\n",
      "  (output0): Sequential(\n",
      "    (0): Linear(in_features=12544, out_features=1024, bias=True)\n",
      "    (1): ReLU()\n",
      "    (2): Linear(in_features=1024, out_features=256, bias=True)\n",
      "    (3): ReLU()\n",
      "    (4): Linear(in_features=256, out_features=36, bias=True)\n",
      "    (5): Softmax(dim=1)\n",
      "  )\n",
      "  (fc_loc): Sequential(\n",
      "    (0): Linear(in_features=90, out_features=32, bias=True)\n",
      "    (1): ReLU(inplace=True)\n",
      "    (2): Linear(in_features=32, out_features=6, bias=True)\n",
      "  )\n",
      ")\n"
     ]
    }
   ],
   "source": [
    "model = md.CNN(init_weights=True)\n",
    "model.to(DEVICE)\n",
    "print(model)"
   ]
  },
  {
   "cell_type": "code",
   "execution_count": 8,
   "outputs": [
    {
     "name": "stdout",
     "output_type": "stream",
     "text": [
      "----------------------------------------------------------------\n",
      "        Layer (type)               Output Shape         Param #\n",
      "================================================================\n",
      "            Conv2d-1         [-1, 48, 124, 124]           1,248\n",
      "       BatchNorm2d-2         [-1, 48, 124, 124]              96\n",
      "              ReLU-3         [-1, 48, 124, 124]               0\n",
      "         MaxPool2d-4           [-1, 48, 62, 62]               0\n",
      "            Conv2d-5           [-1, 32, 58, 58]          38,432\n",
      "       BatchNorm2d-6           [-1, 32, 58, 58]              64\n",
      "              ReLU-7           [-1, 32, 58, 58]               0\n",
      "         MaxPool2d-8           [-1, 32, 29, 29]               0\n",
      "            Conv2d-9           [-1, 64, 25, 25]          51,264\n",
      "      BatchNorm2d-10           [-1, 64, 25, 25]             128\n",
      "             ReLU-11           [-1, 64, 25, 25]               0\n",
      "        MaxPool2d-12           [-1, 64, 12, 12]               0\n",
      "          Flatten-13                 [-1, 9216]               0\n",
      "           Linear-14                  [-1, 100]         921,700\n",
      "             ReLU-15                  [-1, 100]               0\n",
      "           Linear-16                    [-1, 6]             606\n",
      "             ReLU-17                    [-1, 6]               0\n",
      "           Conv2d-18         [-1, 64, 124, 124]           1,664\n",
      "      BatchNorm2d-19         [-1, 64, 124, 124]             128\n",
      "             ReLU-20         [-1, 64, 124, 124]               0\n",
      "        MaxPool2d-21           [-1, 64, 62, 62]               0\n",
      "          Dropout-22           [-1, 64, 62, 62]               0\n",
      "           Conv2d-23          [-1, 128, 60, 60]          73,856\n",
      "      BatchNorm2d-24          [-1, 128, 60, 60]             256\n",
      "             ReLU-25          [-1, 128, 60, 60]               0\n",
      "        MaxPool2d-26          [-1, 128, 30, 30]               0\n",
      "          Dropout-27          [-1, 128, 30, 30]               0\n",
      "           Conv2d-28          [-1, 256, 28, 28]         295,168\n",
      "      BatchNorm2d-29          [-1, 256, 28, 28]             512\n",
      "             ReLU-30          [-1, 256, 28, 28]               0\n",
      "        MaxPool2d-31          [-1, 256, 14, 14]               0\n",
      "          Dropout-32          [-1, 256, 14, 14]               0\n",
      "           Conv2d-33          [-1, 512, 14, 14]       1,180,160\n",
      "      BatchNorm2d-34          [-1, 512, 14, 14]           1,024\n",
      "             ReLU-35          [-1, 512, 14, 14]               0\n",
      "        MaxPool2d-36            [-1, 512, 7, 7]               0\n",
      "          Dropout-37            [-1, 512, 7, 7]               0\n",
      "           Conv2d-38            [-1, 256, 7, 7]       1,179,904\n",
      "      BatchNorm2d-39            [-1, 256, 7, 7]             512\n",
      "             ReLU-40            [-1, 256, 7, 7]               0\n",
      "          Dropout-41            [-1, 256, 7, 7]               0\n",
      "          Flatten-42                [-1, 12544]               0\n",
      "           Linear-43                 [-1, 1024]      12,846,080\n",
      "             ReLU-44                 [-1, 1024]               0\n",
      "           Linear-45                  [-1, 256]         262,400\n",
      "             ReLU-46                  [-1, 256]               0\n",
      "           Linear-47                   [-1, 36]           9,252\n",
      "          Softmax-48                   [-1, 36]               0\n",
      "================================================================\n",
      "Total params: 16,864,454\n",
      "Trainable params: 16,864,454\n",
      "Non-trainable params: 0\n",
      "----------------------------------------------------------------\n",
      "Input size (MB): 0.06\n",
      "Forward/backward pass size (MB): 69.15\n",
      "Params size (MB): 64.33\n",
      "Estimated Total Size (MB): 133.54\n",
      "----------------------------------------------------------------\n"
     ]
    }
   ],
   "source": [
    "import torchsummary\n",
    "\n",
    "torchsummary.summary(model,input_size=(1,128,128))"
   ],
   "metadata": {
    "collapsed": false
   }
  },
  {
   "cell_type": "code",
   "execution_count": 9,
   "metadata": {
    "collapsed": false
   },
   "outputs": [],
   "source": [
    "loss_fn = nn.CrossEntropyLoss().to(DEVICE)\n",
    "\n",
    "if Optimizer_type == 'ADAM' :\n",
    "  optimizer = torch.optim.Adam(model.parameters(), lr = Learning_rate, weight_decay = Weight_decay)\n",
    "elif Optimizer_type == 'SGD' :\n",
    "  optimizer = torch.optim.SGD(model.parameters(), lr = Learning_rate, weight_decay = Weight_decay)"
   ]
  },
  {
   "cell_type": "code",
   "execution_count": 10,
   "outputs": [],
   "source": [
    "## Training function ##\n",
    "def train(dataloader, model, loss_fn, optimizer):\n",
    "  for batch_idx, (X,y) in enumerate(dataloader):\n",
    "\n",
    "    X = X.to(DEVICE)\n",
    "    y = y.to(DEVICE)\n",
    "    pred = model(X)\n",
    "    loss = loss_fn(pred, y)\n",
    "\n",
    "    optimizer.zero_grad()\n",
    "    loss.backward()\n",
    "    optimizer.step()\n",
    "\n",
    "    if batch_idx % 10 == 0:\n",
    "      print('loss: {:.6f} [{}/{}]'.format(loss.item(), batch_idx*len(X), len(dataloader.dataset)))"
   ],
   "metadata": {
    "collapsed": false
   }
  },
  {
   "cell_type": "code",
   "execution_count": 11,
   "outputs": [],
   "source": [
    "## Validation function ##\n",
    "def validation(model, valdata):\n",
    "  ## Input : trained model, validation data\n",
    "  ## Output : validation loss\n",
    "\n",
    "  model.eval()\n",
    "  val_loss = 0\n",
    "  correct = 0\n",
    "  with torch.no_grad():\n",
    "    for X, y in valdata:\n",
    "      X, y = X.to(DEVICE), y.to(DEVICE)\n",
    "      output = model(X)\n",
    "      val_loss += nn.functional.cross_entropy(output, y, reduction='sum').item()\n",
    "      pred = output.argmax(dim=1, keepdim=True)\n",
    "      correct += pred.eq(y.view_as(pred)).sum().item()\n",
    "  val_loss /= len(valdata.dataset)\n",
    "  print('\\n***Validation Result***\\nAverage loss: {:.6f}, Accuracy: {}/{} ({:.1f}%)\\n'.format(val_loss, correct, len(valdata.dataset), 100*correct/len(valdata.dataset)))"
   ],
   "metadata": {
    "collapsed": false
   }
  },
  {
   "cell_type": "code",
   "execution_count": 12,
   "outputs": [],
   "source": [
    "def test(model, testdata):\n",
    "  model.eval()\n",
    "  test_loss = 0\n",
    "  correct = 0\n",
    "  with torch.no_grad():\n",
    "    for X, y in testdata:\n",
    "      X, y = X.to(DEVICE), y.to(DEVICE)\n",
    "      output = model(X)\n",
    "      test_loss += nn.functional.cross_entropy(output, y, reduction='sum').item()\n",
    "      pred = output.argmax(dim=1, keepdim=True)\n",
    "      correct += pred.eq(y.view_as(pred)).sum().item()\n",
    "  test_loss /= len(testdata.dataset)\n",
    "  print('\\n***Test Result***\\nAverage loss: {:.6f}, Accuracy: {}/{} ({:.1f}%)\\n'.format(test_loss, correct, len(testdata.dataset), 100*correct/len(testdata.dataset)))"
   ],
   "metadata": {
    "collapsed": false
   }
  },
  {
   "cell_type": "code",
   "execution_count": null,
   "metadata": {
    "collapsed": false,
    "pycharm": {
     "is_executing": true
    }
   },
   "outputs": [
    {
     "name": "stdout",
     "output_type": "stream",
     "text": [
      "\n",
      "[Epoch 1]\n",
      "loss: 3.583509 [0/28137]\n",
      "loss: 3.583521 [640/28137]\n",
      "loss: 3.583339 [1280/28137]\n",
      "loss: 3.583195 [1920/28137]\n",
      "loss: 3.582739 [2560/28137]\n",
      "loss: 3.582547 [3200/28137]\n",
      "loss: 3.582088 [3840/28137]\n",
      "loss: 3.581458 [4480/28137]\n",
      "loss: 3.579659 [5120/28137]\n",
      "loss: 3.579331 [5760/28137]\n",
      "loss: 3.579357 [6400/28137]\n",
      "loss: 3.572129 [7040/28137]\n",
      "loss: 3.568654 [7680/28137]\n",
      "loss: 3.567858 [8320/28137]\n",
      "loss: 3.578144 [8960/28137]\n",
      "loss: 3.563140 [9600/28137]\n",
      "loss: 3.569107 [10240/28137]\n",
      "loss: 3.568881 [10880/28137]\n",
      "loss: 3.570905 [11520/28137]\n",
      "loss: 3.546273 [12160/28137]\n",
      "loss: 3.557323 [12800/28137]\n",
      "loss: 3.576843 [13440/28137]\n",
      "loss: 3.548923 [14080/28137]\n",
      "loss: 3.556778 [14720/28137]\n",
      "loss: 3.537916 [15360/28137]\n",
      "loss: 3.576543 [16000/28137]\n",
      "loss: 3.550743 [16640/28137]\n",
      "loss: 3.533314 [17280/28137]\n",
      "loss: 3.555950 [17920/28137]\n",
      "loss: 3.564744 [18560/28137]\n",
      "loss: 3.561693 [19200/28137]\n",
      "loss: 3.555916 [19840/28137]\n",
      "loss: 3.521072 [20480/28137]\n",
      "loss: 3.553760 [21120/28137]\n",
      "loss: 3.537114 [21760/28137]\n",
      "loss: 3.558702 [22400/28137]\n",
      "loss: 3.526963 [23040/28137]\n",
      "loss: 3.525966 [23680/28137]\n",
      "loss: 3.516780 [24320/28137]\n",
      "loss: 3.444773 [24960/28137]\n",
      "loss: 3.494842 [25600/28137]\n",
      "loss: 3.551168 [26240/28137]\n",
      "loss: 3.464186 [26880/28137]\n",
      "loss: 3.495528 [27520/28137]\n",
      "\n",
      "***Validation Result***\n",
      "Average loss: 3.554437, Accuracy: 359/3725 (9.6%)\n",
      "\n",
      "\n",
      "[Epoch 2]\n",
      "loss: 3.549612 [0/28137]\n",
      "loss: 3.507572 [640/28137]\n",
      "loss: 3.404774 [1280/28137]\n",
      "loss: 3.514548 [1920/28137]\n",
      "loss: 3.422509 [2560/28137]\n",
      "loss: 3.483129 [3200/28137]\n",
      "loss: 3.448129 [3840/28137]\n",
      "loss: 3.432101 [4480/28137]\n",
      "loss: 3.400310 [5120/28137]\n",
      "loss: 3.479540 [5760/28137]\n",
      "loss: 3.393985 [6400/28137]\n",
      "loss: 3.382457 [7040/28137]\n",
      "loss: 3.386210 [7680/28137]\n",
      "loss: 3.436046 [8320/28137]\n",
      "loss: 3.429054 [8960/28137]\n",
      "loss: 3.429370 [9600/28137]\n",
      "loss: 3.393601 [10240/28137]\n",
      "loss: 3.334582 [10880/28137]\n",
      "loss: 3.404485 [11520/28137]\n",
      "loss: 3.377977 [12160/28137]\n",
      "loss: 3.452391 [12800/28137]\n",
      "loss: 3.397999 [13440/28137]\n",
      "loss: 3.412044 [14080/28137]\n",
      "loss: 3.356980 [14720/28137]\n",
      "loss: 3.396694 [15360/28137]\n",
      "loss: 3.337270 [16000/28137]\n",
      "loss: 3.399133 [16640/28137]\n",
      "loss: 3.392106 [17280/28137]\n",
      "loss: 3.409064 [17920/28137]\n",
      "loss: 3.416283 [18560/28137]\n",
      "loss: 3.345566 [19200/28137]\n",
      "loss: 3.421529 [19840/28137]\n",
      "loss: 3.444798 [20480/28137]\n",
      "loss: 3.341185 [21120/28137]\n",
      "loss: 3.412867 [21760/28137]\n",
      "loss: 3.285886 [22400/28137]\n",
      "loss: 3.457180 [23040/28137]\n",
      "loss: 3.324083 [23680/28137]\n",
      "loss: 3.385356 [24320/28137]\n",
      "loss: 3.301669 [24960/28137]\n",
      "loss: 3.309376 [25600/28137]\n",
      "loss: 3.424987 [26240/28137]\n",
      "loss: 3.372304 [26880/28137]\n",
      "loss: 3.343688 [27520/28137]\n",
      "\n",
      "***Validation Result***\n",
      "Average loss: 3.370761, Accuracy: 967/3725 (26.0%)\n",
      "\n",
      "\n",
      "[Epoch 3]\n",
      "loss: 3.346544 [0/28137]\n",
      "loss: 3.418500 [640/28137]\n",
      "loss: 3.383999 [1280/28137]\n",
      "loss: 3.360614 [1920/28137]\n",
      "loss: 3.413218 [2560/28137]\n",
      "loss: 3.387128 [3200/28137]\n",
      "loss: 3.482151 [3840/28137]\n",
      "loss: 3.366640 [4480/28137]\n",
      "loss: 3.312262 [5120/28137]\n",
      "loss: 3.333569 [5760/28137]\n",
      "loss: 3.332501 [6400/28137]\n",
      "loss: 3.388517 [7040/28137]\n",
      "loss: 3.372651 [7680/28137]\n",
      "loss: 3.431089 [8320/28137]\n",
      "loss: 3.309943 [8960/28137]\n",
      "loss: 3.316933 [9600/28137]\n",
      "loss: 3.333206 [10240/28137]\n",
      "loss: 3.398241 [10880/28137]\n",
      "loss: 3.325349 [11520/28137]\n",
      "loss: 3.352611 [12160/28137]\n",
      "loss: 3.317711 [12800/28137]\n",
      "loss: 3.270863 [13440/28137]\n",
      "loss: 3.277644 [14080/28137]\n",
      "loss: 3.295666 [14720/28137]\n",
      "loss: 3.290197 [15360/28137]\n",
      "loss: 3.314541 [16000/28137]\n",
      "loss: 3.322222 [16640/28137]\n",
      "loss: 3.391068 [17280/28137]\n",
      "loss: 3.310253 [17920/28137]\n",
      "loss: 3.468505 [18560/28137]\n",
      "loss: 3.439352 [19200/28137]\n",
      "loss: 3.368105 [19840/28137]\n",
      "loss: 3.359804 [20480/28137]\n",
      "loss: 3.392833 [21120/28137]\n",
      "loss: 3.241930 [21760/28137]\n",
      "loss: 3.340926 [22400/28137]\n",
      "loss: 3.301046 [23040/28137]\n",
      "loss: 3.327031 [23680/28137]\n",
      "loss: 3.409518 [24320/28137]\n",
      "loss: 3.344665 [24960/28137]\n",
      "loss: 3.290844 [25600/28137]\n",
      "loss: 3.253455 [26240/28137]\n",
      "loss: 3.334076 [26880/28137]\n",
      "loss: 3.309703 [27520/28137]\n",
      "\n",
      "***Validation Result***\n",
      "Average loss: 3.342771, Accuracy: 1088/3725 (29.2%)\n",
      "\n",
      "\n",
      "[Epoch 4]\n",
      "loss: 3.282580 [0/28137]\n",
      "loss: 3.226121 [640/28137]\n",
      "loss: 3.379047 [1280/28137]\n",
      "loss: 3.213303 [1920/28137]\n",
      "loss: 3.319231 [2560/28137]\n",
      "loss: 3.364181 [3200/28137]\n",
      "loss: 3.341928 [3840/28137]\n",
      "loss: 3.336552 [4480/28137]\n",
      "loss: 3.298429 [5120/28137]\n",
      "loss: 3.373910 [5760/28137]\n",
      "loss: 3.444633 [6400/28137]\n",
      "loss: 3.368821 [7040/28137]\n",
      "loss: 3.250650 [7680/28137]\n",
      "loss: 3.325233 [8320/28137]\n",
      "loss: 3.357173 [8960/28137]\n",
      "loss: 3.272527 [9600/28137]\n",
      "loss: 3.246429 [10240/28137]\n",
      "loss: 3.314529 [10880/28137]\n",
      "loss: 3.317897 [11520/28137]\n",
      "loss: 3.159456 [12160/28137]\n",
      "loss: 3.294725 [12800/28137]\n",
      "loss: 3.334956 [13440/28137]\n",
      "loss: 3.282500 [14080/28137]\n",
      "loss: 3.274940 [14720/28137]\n",
      "loss: 3.333982 [15360/28137]\n",
      "loss: 3.298917 [16000/28137]\n",
      "loss: 3.368303 [16640/28137]\n",
      "loss: 3.245362 [17280/28137]\n",
      "loss: 3.377008 [17920/28137]\n",
      "loss: 3.291529 [18560/28137]\n",
      "loss: 3.356175 [19200/28137]\n",
      "loss: 3.317449 [19840/28137]\n",
      "loss: 3.300730 [20480/28137]\n",
      "loss: 3.286328 [21120/28137]\n",
      "loss: 3.378174 [21760/28137]\n",
      "loss: 3.276844 [22400/28137]\n",
      "loss: 3.321209 [23040/28137]\n",
      "loss: 3.286119 [23680/28137]\n",
      "loss: 3.296561 [24320/28137]\n",
      "loss: 3.270364 [24960/28137]\n",
      "loss: 3.253586 [25600/28137]\n",
      "loss: 3.330499 [26240/28137]\n",
      "loss: 3.412835 [26880/28137]\n",
      "loss: 3.443667 [27520/28137]\n",
      "\n",
      "***Validation Result***\n",
      "Average loss: 3.339379, Accuracy: 1079/3725 (29.0%)\n",
      "\n",
      "\n",
      "[Epoch 5]\n",
      "loss: 3.334418 [0/28137]\n",
      "loss: 3.244422 [640/28137]\n",
      "loss: 3.328295 [1280/28137]\n",
      "loss: 3.351485 [1920/28137]\n",
      "loss: 3.433478 [2560/28137]\n",
      "loss: 3.258611 [3200/28137]\n"
     ]
    }
   ],
   "source": [
    "## Training Operation ##\n",
    "start = time.time()\n",
    "for t in range(epochs):\n",
    "  print(f\"\\n[Epoch {t+1}]\")\n",
    "  train(train_dataloader, model, loss_fn, optimizer)\n",
    "  validation(model, val_dataloader)\n",
    "print(\"\\nDone!\")\n",
    "end = time.time()\n",
    "\n",
    "print(\"Training time: {:.4f}\".format(end-start))\n"
   ]
  },
  {
   "cell_type": "code",
   "execution_count": null,
   "outputs": [],
   "source": [],
   "metadata": {
    "collapsed": false,
    "pycharm": {
     "is_executing": true
    }
   }
  }
 ],
 "metadata": {
  "kernelspec": {
   "display_name": "Python 3",
   "language": "python",
   "name": "python3"
  },
  "language_info": {
   "codemirror_mode": {
    "name": "ipython",
    "version": 3
   },
   "file_extension": ".py",
   "mimetype": "text/x-python",
   "name": "python",
   "nbconvert_exporter": "python",
   "pygments_lexer": "ipython3",
   "version": "3.10.12"
  },
  "vscode": {
   "interpreter": {
    "hash": "916dbcbb3f70747c44a77c7bcd40155683ae19c65e1c03b4aa3499c5328201f1"
   }
  }
 },
 "nbformat": 4,
 "nbformat_minor": 0
}
