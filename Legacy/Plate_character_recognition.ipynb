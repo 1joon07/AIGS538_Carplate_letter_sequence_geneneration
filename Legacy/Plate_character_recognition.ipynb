{
 "cells": [
  {
   "cell_type": "code",
   "execution_count": 13,
   "metadata": {
    "collapsed": true
   },
   "outputs": [
    {
     "name": "stdout",
     "output_type": "stream",
     "text": [
      "Using cpu device\n"
     ]
    }
   ],
   "source": [
    "import torch\n",
    "from torch import nn\n",
    "from torchvision import datasets\n",
    "from torch.utils.data import DataLoader\n",
    "from torchvision.transforms import Compose, Resize, ToTensor, Normalize, CenterCrop, Grayscale\n",
    "import matplotlib.pyplot as plt\n",
    "import time\n",
    "import dataset as data\n",
    "import model as md\n",
    "import numpy as np\n",
    "\n",
    "DEVICE = torch.device(\"cuda\" if torch.cuda.is_available() else \"cpu\")\n",
    "print(\"Using {} device\".format(DEVICE))"
   ]
  },
  {
   "cell_type": "code",
   "execution_count": 14,
   "outputs": [],
   "source": [
    "## Hyperparameters\n",
    "Batch_size = 32\n",
    "Optimizer_type = 'ADAM'\n",
    "Learning_rate = 1e-5\n",
    "Weight_decay = 0\n",
    "epochs = 15"
   ],
   "metadata": {
    "collapsed": false
   }
  },
  {
   "cell_type": "code",
   "execution_count": 15,
   "outputs": [],
   "source": [
    "def Sample_visualize(dataloader) :\n",
    "  ## Visualize some preprocess images\n",
    "  ##\n",
    "  ## Input : dataloader of image dataset\n",
    "  ## Output : image plots\n",
    "\n",
    " dataiter = iter(dataloader)\n",
    " images, labels = next(dataiter)\n",
    " images = images.numpy()\n",
    " for i in range (2) :\n",
    "   plt.subplot(1,4,i+1)\n",
    "   plt.imshow(images[i].reshape(64,192), cmap='gray')\n",
    "   plt.xticks([])\n",
    "   plt.yticks([])\n",
    "\n",
    "   print(labels)"
   ],
   "metadata": {
    "collapsed": false
   }
  },
  {
   "cell_type": "code",
   "execution_count": 16,
   "outputs": [],
   "source": [
    "train_dataset = data.LicensePlateDataset(directory='./CNN_generated_dataset', label_file='./CNN_generated_dataset/Labels.csv')\n",
    "train_loader = DataLoader(train_dataset, batch_size=Batch_size, shuffle=True)\n",
    "\n",
    "val_dataset = data.LicensePlateDataset(directory='./CNN_generated_dataset_val', label_file='./CNN_generated_dataset_val/Labels.csv')\n",
    "val_loader = DataLoader(val_dataset, batch_size=Batch_size, shuffle=True)\n",
    "#\n",
    "# test_dataset = data.LicensePlateDataset(directory='./CNN_generated_dataset_test', label_file='./CNN_generated_dataset_test/Labels.csv')\n",
    "# test_loader = DataLoader(test_dataset, batch_size=Batch_size, shuffle=True)"
   ],
   "metadata": {
    "collapsed": false
   }
  },
  {
   "cell_type": "code",
   "execution_count": 17,
   "outputs": [
    {
     "name": "stdout",
     "output_type": "stream",
     "text": [
      "[tensor([ 9, 20, 18,  3,  3, 14, 28,  4, 23, 24, 13,  2, 29, 15,  0, 22, 10, 19,\n",
      "        17, 22, 11, 24,  5, 19, 31, 25, 25, 21,  7, 13, 12, 19]), tensor([ 9, 13, 32,  7, 27,  4, 32, 13, 12, 29, 31, 15,  5,  2, 29,  7, 18, 17,\n",
      "         9, 31, 30,  8,  8, 29,  0, 19,  6, 21, 24, 24, 15,  3]), tensor([14, 10, 21, 17, 29,  1, 22,  2, 15, 10,  7, 18, 19,  7, 27, 22, 24,  5,\n",
      "        20,  7,  4, 32,  6, 25, 16, 32, 14, 31, 27, 27, 34, 15]), tensor([28,  3, 10, 16,  2, 34, 18, 13,  6,  8,  8, 33,  0, 28, 31, 34,  9, 26,\n",
      "        25,  5,  6, 13, 34,  2,  5,  4,  5, 14,  1,  5, 21,  2]), tensor([14, 27, 19,  0, 35, 35, 21,  6, 22, 13, 17,  4, 27, 31,  9, 16, 35, 35,\n",
      "        17, 28, 28,  0, 11, 35, 30, 22, 25, 32, 23,  9, 13, 13]), tensor([26,  2, 18, 21, 35, 35, 18, 27, 35, 22, 15, 24, 24, 28,  4, 14, 35, 35,\n",
      "        13, 33, 21, 23, 29, 35, 23, 23,  2, 15, 12, 20, 10, 10]), tensor([13, 35, 30, 35, 35, 35,  4,  7, 35, 21, 16,  9, 18, 27, 31,  9, 35, 35,\n",
      "        32,  0,  5, 35, 24, 35,  0, 20, 34, 18, 24, 18, 35, 14]), tensor([15, 35, 23, 35, 35, 35,  6, 25, 35, 35, 32, 33, 33, 24, 20, 34, 35, 35,\n",
      "        27, 33, 19, 35, 18, 35, 35, 14,  8, 34, 35, 12, 35,  5]), tensor([15, 35,  3, 35, 35, 35, 34, 22, 35, 35, 35, 35, 35, 20, 24, 16, 35, 35,\n",
      "        13, 21, 18, 35, 35, 35, 35, 14,  1, 35, 35, 19, 35,  0]), tensor([ 7, 35,  2, 35, 35, 35,  3, 18, 35, 35, 35, 35, 35, 35, 35, 35, 35, 35,\n",
      "         3, 35,  8, 35, 35, 35, 35, 35,  0, 35, 35, 19, 35, 35]), tensor([ 2, 35, 35, 35, 35, 35, 21, 35, 35, 35, 35, 35, 35, 35, 35, 35, 35, 35,\n",
      "        35, 35, 35, 35, 35, 35, 35, 35, 31, 35, 35, 35, 35, 35])]\n",
      "[tensor([ 9, 20, 18,  3,  3, 14, 28,  4, 23, 24, 13,  2, 29, 15,  0, 22, 10, 19,\n",
      "        17, 22, 11, 24,  5, 19, 31, 25, 25, 21,  7, 13, 12, 19]), tensor([ 9, 13, 32,  7, 27,  4, 32, 13, 12, 29, 31, 15,  5,  2, 29,  7, 18, 17,\n",
      "         9, 31, 30,  8,  8, 29,  0, 19,  6, 21, 24, 24, 15,  3]), tensor([14, 10, 21, 17, 29,  1, 22,  2, 15, 10,  7, 18, 19,  7, 27, 22, 24,  5,\n",
      "        20,  7,  4, 32,  6, 25, 16, 32, 14, 31, 27, 27, 34, 15]), tensor([28,  3, 10, 16,  2, 34, 18, 13,  6,  8,  8, 33,  0, 28, 31, 34,  9, 26,\n",
      "        25,  5,  6, 13, 34,  2,  5,  4,  5, 14,  1,  5, 21,  2]), tensor([14, 27, 19,  0, 35, 35, 21,  6, 22, 13, 17,  4, 27, 31,  9, 16, 35, 35,\n",
      "        17, 28, 28,  0, 11, 35, 30, 22, 25, 32, 23,  9, 13, 13]), tensor([26,  2, 18, 21, 35, 35, 18, 27, 35, 22, 15, 24, 24, 28,  4, 14, 35, 35,\n",
      "        13, 33, 21, 23, 29, 35, 23, 23,  2, 15, 12, 20, 10, 10]), tensor([13, 35, 30, 35, 35, 35,  4,  7, 35, 21, 16,  9, 18, 27, 31,  9, 35, 35,\n",
      "        32,  0,  5, 35, 24, 35,  0, 20, 34, 18, 24, 18, 35, 14]), tensor([15, 35, 23, 35, 35, 35,  6, 25, 35, 35, 32, 33, 33, 24, 20, 34, 35, 35,\n",
      "        27, 33, 19, 35, 18, 35, 35, 14,  8, 34, 35, 12, 35,  5]), tensor([15, 35,  3, 35, 35, 35, 34, 22, 35, 35, 35, 35, 35, 20, 24, 16, 35, 35,\n",
      "        13, 21, 18, 35, 35, 35, 35, 14,  1, 35, 35, 19, 35,  0]), tensor([ 7, 35,  2, 35, 35, 35,  3, 18, 35, 35, 35, 35, 35, 35, 35, 35, 35, 35,\n",
      "         3, 35,  8, 35, 35, 35, 35, 35,  0, 35, 35, 19, 35, 35]), tensor([ 2, 35, 35, 35, 35, 35, 21, 35, 35, 35, 35, 35, 35, 35, 35, 35, 35, 35,\n",
      "        35, 35, 35, 35, 35, 35, 35, 35, 31, 35, 35, 35, 35, 35])]\n"
     ]
    },
    {
     "data": {
      "text/plain": "<Figure size 640x480 with 2 Axes>",
      "image/png": "[encoded data removed]"
     },
     "metadata": {},
     "output_type": "display_data"
    }
   ],
   "source": [
    "Sample_visualize(train_loader)"
   ],
   "metadata": {
    "collapsed": false
   }
  },
  {
   "cell_type": "code",
   "execution_count": 18,
   "outputs": [
    {
     "name": "stdout",
     "output_type": "stream",
     "text": [
      "CNN(\n",
      "  (localization): Sequential(\n",
      "    (0): Conv2d(1, 48, kernel_size=(5, 5), stride=(1, 1))\n",
      "    (1): BatchNorm2d(48, eps=1e-05, momentum=0.1, affine=True, track_running_stats=True)\n",
      "    (2): ReLU()\n",
      "    (3): MaxPool2d(kernel_size=(2, 2), stride=2, padding=0, dilation=1, ceil_mode=False)\n",
      "    (4): Conv2d(48, 32, kernel_size=(5, 5), stride=(1, 1))\n",
      "    (5): BatchNorm2d(32, eps=1e-05, momentum=0.1, affine=True, track_running_stats=True)\n",
      "    (6): ReLU()\n",
      "    (7): MaxPool2d(kernel_size=(2, 2), stride=2, padding=0, dilation=1, ceil_mode=False)\n",
      "    (8): Flatten(start_dim=1, end_dim=-1)\n",
      "    (9): Linear(in_features=18720, out_features=100, bias=True)\n",
      "    (10): ReLU()\n",
      "    (11): Linear(in_features=100, out_features=6, bias=True)\n",
      "    (12): ReLU()\n",
      "  )\n",
      "  (conv1): Sequential(\n",
      "    (0): Conv2d(1, 64, kernel_size=(5, 5), stride=(1, 1))\n",
      "    (1): BatchNorm2d(64, eps=1e-05, momentum=0.1, affine=True, track_running_stats=True)\n",
      "    (2): ReLU()\n",
      "  )\n",
      "  (pool1): MaxPool2d(kernel_size=2, stride=2, padding=0, dilation=1, ceil_mode=False)\n",
      "  (dropout1): Dropout(p=0.25, inplace=False)\n",
      "  (conv2): Sequential(\n",
      "    (0): Conv2d(64, 128, kernel_size=(3, 3), stride=(1, 1))\n",
      "    (1): BatchNorm2d(128, eps=1e-05, momentum=0.1, affine=True, track_running_stats=True)\n",
      "    (2): ReLU()\n",
      "  )\n",
      "  (pool2): MaxPool2d(kernel_size=2, stride=2, padding=0, dilation=1, ceil_mode=False)\n",
      "  (dropout2): Dropout(p=0.25, inplace=False)\n",
      "  (conv3): Sequential(\n",
      "    (0): Conv2d(128, 256, kernel_size=(3, 3), stride=(1, 1))\n",
      "    (1): BatchNorm2d(256, eps=1e-05, momentum=0.1, affine=True, track_running_stats=True)\n",
      "    (2): ReLU()\n",
      "  )\n",
      "  (pool3): MaxPool2d(kernel_size=2, stride=2, padding=0, dilation=1, ceil_mode=False)\n",
      "  (dropout3): Dropout(p=0.25, inplace=False)\n",
      "  (conv4): Sequential(\n",
      "    (0): Conv2d(256, 512, kernel_size=(3, 3), stride=(1, 1), padding=(1, 1))\n",
      "    (1): BatchNorm2d(512, eps=1e-05, momentum=0.1, affine=True, track_running_stats=True)\n",
      "    (2): ReLU()\n",
      "  )\n",
      "  (pool4): MaxPool2d(kernel_size=2, stride=2, padding=0, dilation=1, ceil_mode=False)\n",
      "  (dropout4): Dropout(p=0.25, inplace=False)\n",
      "  (conv5): Sequential(\n",
      "    (0): Conv2d(512, 256, kernel_size=(3, 3), stride=(1, 1), padding=(1, 1))\n",
      "    (1): BatchNorm2d(256, eps=1e-05, momentum=0.1, affine=True, track_running_stats=True)\n",
      "    (2): ReLU()\n",
      "  )\n",
      "  (pool5): MaxPool2d(kernel_size=2, stride=2, padding=0, dilation=1, ceil_mode=False)\n",
      "  (dropout5): Dropout(p=0.25, inplace=False)\n",
      "  (fc1): Sequential(\n",
      "    (0): Flatten(start_dim=1, end_dim=-1)\n",
      "    (1): Linear(in_features=8448, out_features=1024, bias=True)\n",
      "    (2): ReLU()\n",
      "  )\n",
      "  (output): Sequential(\n",
      "    (0): Linear(in_features=1024, out_features=37, bias=True)\n",
      "    (1): Softmax(dim=1)\n",
      "  )\n",
      "  (fc_loc): Sequential(\n",
      "    (0): Linear(in_features=90, out_features=32, bias=True)\n",
      "    (1): ReLU(inplace=True)\n",
      "    (2): Linear(in_features=32, out_features=6, bias=True)\n",
      "  )\n",
      ")\n"
     ]
    }
   ],
   "source": [
    "model = md.CNN(init_weights=False)\n",
    "model.to(DEVICE)\n",
    "print(model)"
   ],
   "metadata": {
    "collapsed": false
   }
  },
  {
   "cell_type": "code",
   "execution_count": 19,
   "outputs": [],
   "source": [
    "loss_fn = nn.CrossEntropyLoss().to(DEVICE)\n",
    "\n",
    "if Optimizer_type == 'ADAM' :\n",
    "  optimizer = torch.optim.Adam(model.parameters(), lr = Learning_rate, weight_decay = Weight_decay)\n",
    "elif Optimizer_type == 'SGD' :\n",
    "  optimizer = torch.optim.SGD(model.parameters(), lr = Learning_rate, weight_decay = Weight_decay)"
   ],
   "metadata": {
    "collapsed": false
   }
  },
  {
   "cell_type": "code",
   "execution_count": 20,
   "outputs": [],
   "source": [
    "## Training function ##\n",
    "def train(dataloader, model, loss_fn, optimizer):\n",
    "  for batch_idx, (X,y) in enumerate(dataloader):\n",
    "\n",
    "    X = X.to(DEVICE)\n",
    "    pred0, pred1, pred2, pred3, pred4, pred5, pred6, pred7, pred8, pred9, pred10 = model(X)\n",
    "    print(pred0)\n",
    "    # loss = 0.\n",
    "    # for idx in range(11):\n",
    "    #   y[idx] = y[idx].to(DEVICE)\n",
    "    #   loss += loss_fn(torch.tensor(pred[idx], dtype=torch.float32), y[idx])\n",
    "    for idx in range(11):\n",
    "      y[idx] = y[idx].to(DEVICE)\n",
    "\n",
    "    loss0 = loss_fn(pred0, y[0])\n",
    "    loss1 = loss_fn(pred1, y[1])\n",
    "    loss2 = loss_fn(pred2, y[2])\n",
    "    loss3 = loss_fn(pred3, y[3])\n",
    "    loss4 = loss_fn(pred4, y[4])\n",
    "    loss5 = loss_fn(pred5, y[5])\n",
    "    loss6 = loss_fn(pred6, y[6])\n",
    "    loss7 = loss_fn(pred7, y[7])\n",
    "    loss8 = loss_fn(pred8, y[8])\n",
    "    loss9 = loss_fn(pred9, y[9])\n",
    "    loss10 = loss_fn(pred10, y[10])\n",
    "    loss = loss0 + loss1 + loss2 + loss3 + loss4 + loss5 + loss6 + loss7 + loss8 + loss9 + loss10\n",
    "\n",
    "    optimizer.zero_grad()\n",
    "    loss.requires_grad_(True)\n",
    "    loss.backward()\n",
    "    optimizer.step()\n",
    "\n",
    "    if batch_idx % 5 == 0:\n",
    "      print('loss: {:.6f} [{}/{}]'.format(loss.item(), batch_idx*len(X), len(dataloader.dataset)))"
   ],
   "metadata": {
    "collapsed": false
   }
  },
  {
   "cell_type": "code",
   "execution_count": 21,
   "outputs": [],
   "source": [
    "## Validation function ##\n",
    "def validation(model, valdata):\n",
    "  ## Input : trained model, validation data\n",
    "  ## Output : validation loss\n",
    "\n",
    "  model.eval()\n",
    "  val_loss = 0\n",
    "  char_correct = 0\n",
    "  plate_correct = 0\n",
    "  with torch.no_grad():\n",
    "    for X, y in valdata:\n",
    "      X = X.to(DEVICE)\n",
    "      for idx in range(11):\n",
    "        y[idx] = y[idx].to(DEVICE)\n",
    "      val_pred0, val_pred1, val_pred2, val_pred3, val_pred4, val_pred5, val_pred6, val_pred7, val_pred8, val_pred9, val_pred10 = model(X)\n",
    "\n",
    "      val_loss0 = loss_fn(val_pred0, y[0])\n",
    "      val_loss1 = loss_fn(val_pred1, y[1])\n",
    "      val_loss2 = loss_fn(val_pred2, y[2])\n",
    "      val_loss3 = loss_fn(val_pred3, y[3])\n",
    "      val_loss4 = loss_fn(val_pred4, y[4])\n",
    "      val_loss5 = loss_fn(val_pred5, y[5])\n",
    "      val_loss6 = loss_fn(val_pred6, y[6])\n",
    "      val_loss7 = loss_fn(val_pred7, y[7])\n",
    "      val_loss8 = loss_fn(val_pred8, y[8])\n",
    "      val_loss9 = loss_fn(val_pred9, y[9])\n",
    "      val_loss10 = loss_fn(val_pred10, y[10])\n",
    "\n",
    "      val_loss += val_loss0 + val_loss1 + val_loss2 + val_loss3 + val_loss4 + val_loss5 + val_loss6 + val_loss7 + val_loss8 + val_loss9 + val_loss10\n",
    "\n",
    "      val_pred0 = val_pred0.argmax(dim=-1, keepdim=True)\n",
    "      val_pred1 = val_pred1.argmax(dim=-1, keepdim=True)\n",
    "      val_pred2 = val_pred2.argmax(dim=-1, keepdim=True)\n",
    "      val_pred3 = val_pred3.argmax(dim=-1, keepdim=True)\n",
    "      val_pred4 = val_pred4.argmax(dim=-1, keepdim=True)\n",
    "      val_pred5 = val_pred5.argmax(dim=-1, keepdim=True)\n",
    "      val_pred6 = val_pred6.argmax(dim=-1, keepdim=True)\n",
    "      val_pred7 = val_pred7.argmax(dim=-1, keepdim=True)\n",
    "      val_pred8 = val_pred8.argmax(dim=-1, keepdim=True)\n",
    "      val_pred9 = val_pred9.argmax(dim=-1, keepdim=True)\n",
    "      val_pred10 = val_pred10.argmax(dim=-1, keepdim=True)\n",
    "\n",
    "      char_correct += val_pred0.eq(y[0].view_as(val_pred0)).sum().item()\n",
    "      char_correct += val_pred1.eq(y[1].view_as(val_pred1)).sum().item()\n",
    "      char_correct += val_pred2.eq(y[2].view_as(val_pred2)).sum().item()\n",
    "      char_correct += val_pred3.eq(y[3].view_as(val_pred3)).sum().item()\n",
    "      char_correct += val_pred4.eq(y[4].view_as(val_pred4)).sum().item()\n",
    "      char_correct += val_pred5.eq(y[5].view_as(val_pred5)).sum().item()\n",
    "      char_correct += val_pred6.eq(y[6].view_as(val_pred6)).sum().item()\n",
    "      char_correct += val_pred7.eq(y[7].view_as(val_pred7)).sum().item()\n",
    "      char_correct += val_pred8.eq(y[8].view_as(val_pred8)).sum().item()\n",
    "      char_correct += val_pred9.eq(y[9].view_as(val_pred9)).sum().item()\n",
    "      char_correct += val_pred10.eq(y[10].view_as(val_pred10)).sum().item()\n",
    "\n",
    "      tensors = [val_pred0.eq(y[0].view_as(val_pred0)),\n",
    "                 val_pred1.eq(y[1].view_as(val_pred1)),\n",
    "                 val_pred2.eq(y[2].view_as(val_pred2)),\n",
    "                 val_pred3.eq(y[3].view_as(val_pred3)),\n",
    "                 val_pred4.eq(y[4].view_as(val_pred4)),\n",
    "                 val_pred5.eq(y[5].view_as(val_pred5)),\n",
    "                 val_pred6.eq(y[6].view_as(val_pred6)),\n",
    "                 val_pred7.eq(y[7].view_as(val_pred7)),\n",
    "                 val_pred8.eq(y[8].view_as(val_pred8)),\n",
    "                 val_pred9.eq(y[9].view_as(val_pred9)),\n",
    "                 val_pred10.eq(y[10].view_as(val_pred10))]\n",
    "\n",
    "      combined_tensor = torch.stack(tensors)\n",
    "      result = torch.all(combined_tensor, dim=0)\n",
    "      plate_correct = result.sum().item()\n",
    "\n",
    "  val_loss /= len(valdata.dataset)\n",
    "  print('\\n***Validation Result***\\nAverage loss: {:.6f}, Plate Accuracy: {}/{} ({:.1f}%), Character Accuracy: {}/{} ({:.1f}%)\\n'.format(val_loss,\n",
    "                                                                                                                                         plate_correct,\n",
    "                                                                                                                                         len(valdata.dataset),\n",
    "                                                                                                                                         100*plate_correct/len(valdata.dataset),\n",
    "                                                                                                                                         char_correct,\n",
    "                                                                                                                                         len(valdata.dataset)*11,\n",
    "                                                                                                                                         100*char_correct/(len(valdata.dataset)*11)))"
   ],
   "metadata": {
    "collapsed": false
   }
  },
  {
   "cell_type": "code",
   "execution_count": 22,
   "outputs": [
    {
     "name": "stdout",
     "output_type": "stream",
     "text": [
      "\n",
      "[Epoch 1]\n",
      "loss: 39.731819 [0/4000]\n",
      "loss: 39.525642 [160/4000]\n",
      "loss: 38.915668 [320/4000]\n",
      "loss: 38.065174 [480/4000]\n",
      "loss: 37.006145 [640/4000]\n",
      "loss: 36.784370 [800/4000]\n",
      "loss: 36.620777 [960/4000]\n"
     ]
    },
    {
     "ename": "KeyboardInterrupt",
     "evalue": "",
     "output_type": "error",
     "traceback": [
      "\u001B[1;31m---------------------------------------------------------------------------\u001B[0m",
      "\u001B[1;31mKeyboardInterrupt\u001B[0m                         Traceback (most recent call last)",
      "Cell \u001B[1;32mIn[22], line 5\u001B[0m\n\u001B[0;32m      3\u001B[0m \u001B[38;5;28;01mfor\u001B[39;00m t \u001B[38;5;129;01min\u001B[39;00m \u001B[38;5;28mrange\u001B[39m(epochs):\n\u001B[0;32m      4\u001B[0m   \u001B[38;5;28mprint\u001B[39m(\u001B[38;5;124mf\u001B[39m\u001B[38;5;124m\"\u001B[39m\u001B[38;5;130;01m\\n\u001B[39;00m\u001B[38;5;124m[Epoch \u001B[39m\u001B[38;5;132;01m{\u001B[39;00mt\u001B[38;5;241m+\u001B[39m\u001B[38;5;241m1\u001B[39m\u001B[38;5;132;01m}\u001B[39;00m\u001B[38;5;124m]\u001B[39m\u001B[38;5;124m\"\u001B[39m)\n\u001B[1;32m----> 5\u001B[0m   \u001B[43mtrain\u001B[49m\u001B[43m(\u001B[49m\u001B[43mtrain_loader\u001B[49m\u001B[43m,\u001B[49m\u001B[43m \u001B[49m\u001B[43mmodel\u001B[49m\u001B[43m,\u001B[49m\u001B[43m \u001B[49m\u001B[43mloss_fn\u001B[49m\u001B[43m,\u001B[49m\u001B[43m \u001B[49m\u001B[43moptimizer\u001B[49m\u001B[43m)\u001B[49m\n\u001B[0;32m      6\u001B[0m   validation(model, val_loader)\n\u001B[0;32m      7\u001B[0m \u001B[38;5;28mprint\u001B[39m(\u001B[38;5;124m\"\u001B[39m\u001B[38;5;130;01m\\n\u001B[39;00m\u001B[38;5;124mDone!\u001B[39m\u001B[38;5;124m\"\u001B[39m)\n",
      "Cell \u001B[1;32mIn[20], line 29\u001B[0m, in \u001B[0;36mtrain\u001B[1;34m(dataloader, model, loss_fn, optimizer)\u001B[0m\n\u001B[0;32m     27\u001B[0m optimizer\u001B[38;5;241m.\u001B[39mzero_grad()\n\u001B[0;32m     28\u001B[0m loss\u001B[38;5;241m.\u001B[39mrequires_grad_(\u001B[38;5;28;01mTrue\u001B[39;00m)\n\u001B[1;32m---> 29\u001B[0m \u001B[43mloss\u001B[49m\u001B[38;5;241;43m.\u001B[39;49m\u001B[43mbackward\u001B[49m\u001B[43m(\u001B[49m\u001B[43m)\u001B[49m\n\u001B[0;32m     30\u001B[0m optimizer\u001B[38;5;241m.\u001B[39mstep()\n\u001B[0;32m     32\u001B[0m \u001B[38;5;28;01mif\u001B[39;00m batch_idx \u001B[38;5;241m%\u001B[39m \u001B[38;5;241m5\u001B[39m \u001B[38;5;241m==\u001B[39m \u001B[38;5;241m0\u001B[39m:\n",
      "File \u001B[1;32m~\\PycharmProjects\\AIGS538_Carplate_letter_sequence_geneneration\\venv\\lib\\site-packages\\torch\\_tensor.py:492\u001B[0m, in \u001B[0;36mTensor.backward\u001B[1;34m(self, gradient, retain_graph, create_graph, inputs)\u001B[0m\n\u001B[0;32m    482\u001B[0m \u001B[38;5;28;01mif\u001B[39;00m has_torch_function_unary(\u001B[38;5;28mself\u001B[39m):\n\u001B[0;32m    483\u001B[0m     \u001B[38;5;28;01mreturn\u001B[39;00m handle_torch_function(\n\u001B[0;32m    484\u001B[0m         Tensor\u001B[38;5;241m.\u001B[39mbackward,\n\u001B[0;32m    485\u001B[0m         (\u001B[38;5;28mself\u001B[39m,),\n\u001B[1;32m   (...)\u001B[0m\n\u001B[0;32m    490\u001B[0m         inputs\u001B[38;5;241m=\u001B[39minputs,\n\u001B[0;32m    491\u001B[0m     )\n\u001B[1;32m--> 492\u001B[0m \u001B[43mtorch\u001B[49m\u001B[38;5;241;43m.\u001B[39;49m\u001B[43mautograd\u001B[49m\u001B[38;5;241;43m.\u001B[39;49m\u001B[43mbackward\u001B[49m\u001B[43m(\u001B[49m\n\u001B[0;32m    493\u001B[0m \u001B[43m    \u001B[49m\u001B[38;5;28;43mself\u001B[39;49m\u001B[43m,\u001B[49m\u001B[43m \u001B[49m\u001B[43mgradient\u001B[49m\u001B[43m,\u001B[49m\u001B[43m \u001B[49m\u001B[43mretain_graph\u001B[49m\u001B[43m,\u001B[49m\u001B[43m \u001B[49m\u001B[43mcreate_graph\u001B[49m\u001B[43m,\u001B[49m\u001B[43m \u001B[49m\u001B[43minputs\u001B[49m\u001B[38;5;241;43m=\u001B[39;49m\u001B[43minputs\u001B[49m\n\u001B[0;32m    494\u001B[0m \u001B[43m\u001B[49m\u001B[43m)\u001B[49m\n",
      "File \u001B[1;32m~\\PycharmProjects\\AIGS538_Carplate_letter_sequence_geneneration\\venv\\lib\\site-packages\\torch\\autograd\\__init__.py:251\u001B[0m, in \u001B[0;36mbackward\u001B[1;34m(tensors, grad_tensors, retain_graph, create_graph, grad_variables, inputs)\u001B[0m\n\u001B[0;32m    246\u001B[0m     retain_graph \u001B[38;5;241m=\u001B[39m create_graph\n\u001B[0;32m    248\u001B[0m \u001B[38;5;66;03m# The reason we repeat the same comment below is that\u001B[39;00m\n\u001B[0;32m    249\u001B[0m \u001B[38;5;66;03m# some Python versions print out the first line of a multi-line function\u001B[39;00m\n\u001B[0;32m    250\u001B[0m \u001B[38;5;66;03m# calls in the traceback and some print out the last line\u001B[39;00m\n\u001B[1;32m--> 251\u001B[0m \u001B[43mVariable\u001B[49m\u001B[38;5;241;43m.\u001B[39;49m\u001B[43m_execution_engine\u001B[49m\u001B[38;5;241;43m.\u001B[39;49m\u001B[43mrun_backward\u001B[49m\u001B[43m(\u001B[49m\u001B[43m  \u001B[49m\u001B[38;5;66;43;03m# Calls into the C++ engine to run the backward pass\u001B[39;49;00m\n\u001B[0;32m    252\u001B[0m \u001B[43m    \u001B[49m\u001B[43mtensors\u001B[49m\u001B[43m,\u001B[49m\n\u001B[0;32m    253\u001B[0m \u001B[43m    \u001B[49m\u001B[43mgrad_tensors_\u001B[49m\u001B[43m,\u001B[49m\n\u001B[0;32m    254\u001B[0m \u001B[43m    \u001B[49m\u001B[43mretain_graph\u001B[49m\u001B[43m,\u001B[49m\n\u001B[0;32m    255\u001B[0m \u001B[43m    \u001B[49m\u001B[43mcreate_graph\u001B[49m\u001B[43m,\u001B[49m\n\u001B[0;32m    256\u001B[0m \u001B[43m    \u001B[49m\u001B[43minputs\u001B[49m\u001B[43m,\u001B[49m\n\u001B[0;32m    257\u001B[0m \u001B[43m    \u001B[49m\u001B[43mallow_unreachable\u001B[49m\u001B[38;5;241;43m=\u001B[39;49m\u001B[38;5;28;43;01mTrue\u001B[39;49;00m\u001B[43m,\u001B[49m\n\u001B[0;32m    258\u001B[0m \u001B[43m    \u001B[49m\u001B[43maccumulate_grad\u001B[49m\u001B[38;5;241;43m=\u001B[39;49m\u001B[38;5;28;43;01mTrue\u001B[39;49;00m\u001B[43m,\u001B[49m\n\u001B[0;32m    259\u001B[0m \u001B[43m\u001B[49m\u001B[43m)\u001B[49m\n",
      "\u001B[1;31mKeyboardInterrupt\u001B[0m: "
     ]
    }
   ],
   "source": [
    "## Training Operation ##\n",
    "start = time.time()\n",
    "for t in range(epochs):\n",
    "  print(f\"\\n[Epoch {t+1}]\")\n",
    "  train(train_loader, model, loss_fn, optimizer)\n",
    "  validation(model, val_loader)\n",
    "print(\"\\nDone!\")\n",
    "end = time.time()\n",
    "\n",
    "print(\"Training time: {:.4f}\".format(end-start))"
   ],
   "metadata": {
    "collapsed": false
   }
  },
  {
   "cell_type": "code",
   "execution_count": null,
   "outputs": [],
   "source": [],
   "metadata": {
    "collapsed": false
   }
  },
  {
   "cell_type": "code",
   "execution_count": null,
   "outputs": [],
   "source": [],
   "metadata": {
    "collapsed": false
   }
  },
  {
   "cell_type": "code",
   "execution_count": null,
   "outputs": [],
   "source": [],
   "metadata": {
    "collapsed": false
   }
  }
 ],
 "metadata": {
  "kernelspec": {
   "display_name": "Python 3",
   "language": "python",
   "name": "python3"
  },
  "language_info": {
   "codemirror_mode": {
    "name": "ipython",
    "version": 2
   },
   "file_extension": ".py",
   "mimetype": "text/x-python",
   "name": "python",
   "nbconvert_exporter": "python",
   "pygments_lexer": "ipython2",
   "version": "2.7.6"
  }
 },
 "nbformat": 4,
 "nbformat_minor": 0
}
